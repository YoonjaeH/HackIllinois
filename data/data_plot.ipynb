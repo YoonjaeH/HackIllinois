{
 "cells": [
  {
   "cell_type": "code",
   "execution_count": null,
   "metadata": {},
   "outputs": [],
   "source": [
    "import numpy as np\n",
    "import matplotlib.pyplot as plt\n",
    "from matplotlib import rc\n",
    "import pandas as pd"
   ]
  },
  {
   "cell_type": "code",
   "execution_count": null,
   "metadata": {},
   "outputs": [],
   "source": [
    "df = pd.read_csv(\"data_format.csv\")"
   ]
  },
  {
   "cell_type": "code",
   "execution_count": null,
   "metadata": {},
   "outputs": [],
   "source": [
    "qsd = df.Quarter_start_date.unique()"
   ]
  },
  {
   "cell_type": "code",
   "execution_count": null,
   "metadata": {},
   "outputs": [],
   "source": [
    "q = []\n",
    "\n",
    "for date in qsd:\n",
    "    t = df.loc[df.Quarter_start_date == date]\n",
    "    t = t['Occurrence']\n",
    "    # print(t.shape)\n",
    "    q.append(t)"
   ]
  },
  {
   "cell_type": "code",
   "execution_count": null,
   "metadata": {},
   "outputs": [],
   "source": [
    "# The position of the bars on the x-axis\n",
    "r = range(50)"
   ]
  },
  {
   "cell_type": "code",
   "execution_count": null,
   "metadata": {},
   "outputs": [],
   "source": [
    "# y-axis in bold\n",
    "rc('font', weight='bold')\n",
    " \n",
    " \n",
    "# Heights of bars1 + bars2\n",
    "h2 = np.add(q[0], q[1]).tolist() "
   ]
  },
  {
   "cell_type": "code",
   "execution_count": null,
   "metadata": {},
   "outputs": [],
   "source": [
    " # The position of the bars on the x-axis\n",
    "r = range(50)\n",
    " \n",
    "# Names of group and bar width\n",
    "states = [\"Alaska\",\"Alabama\",\"Arkansas\",\"Arizona\",\"California\",\"Colorado\",\"Connecticut\",\"Delaware\",\"Florida\",\"Georgia\",\"Hawaii\",\"Iowa\",\"Idaho\",\"Illinois\",\"Indiana\",\"Kansas\",\"Kentucky\",\"Louisiana\",\"Massachusetts\",\"Maryland\",\"Maine\",\"Michigan\",\"Minnesota\",\"Missouri\",\"Mississippi\",\"Montana\",\"North_carolina\",\"North_dakota\",\"Nebraska\",\"New_hampshire\",\"New_jersey\",\"New_mexico\",\"Nevada\",\"New_york\",\"Ohio\",\"Oklahoma\",\"Oregon\",\"Pennsylvania\",\"Rhode_island\",\"South_carolina\",\"South_dakota\",\"Tennessee\",\"Texas\",\"Utah\",\"Virginia\",\"Vermont\",\"Washington\",\"Wisconsin\",\"West_virginia\",\"Wyoming\"]\n",
    "barWidth = 1\n",
    " \n",
    "plt.bar(r, q[0], color='#A0B5DA', edgecolor='white', width=barWidth)\n",
    "plt.bar(r, q[1], bottom=q[0], color='#557f2d', edgecolor='white', width=barWidth)\n",
    "plt.bar(r, q[2], bottom=(q[1],q[0]), color='#5A303C', edgecolor='white', width=barWidth)\n",
    "\n",
    "\n",
    "# Custom X axis\n",
    "plt.xticks(r, states, fontweight='bold', rotation=90, fontsize=2)\n",
    "plt.xlabel(\"STATES\")\n",
    " \n",
    "# Show graphic\n",
    "plt.show()"
   ]
  },
  {
   "cell_type": "code",
   "execution_count": null,
   "metadata": {},
   "outputs": [],
   "source": []
  }
 ],
 "metadata": {
  "interpreter": {
   "hash": "02731ec30bcbe8df09ccd3cd7dd26e2c555dd0d329a068231308756d8336c462"
  },
  "kernelspec": {
   "display_name": "Python 3.8.5 64-bit ('base': conda)",
   "name": "python3"
  },
  "language_info": {
   "name": "python",
   "version": ""
  },
  "orig_nbformat": 2
 },
 "nbformat": 4,
 "nbformat_minor": 2
}