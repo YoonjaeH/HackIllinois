{
 "metadata": {
  "language_info": {
   "codemirror_mode": {
    "name": "ipython",
    "version": 3
   },
   "file_extension": ".py",
   "mimetype": "text/x-python",
   "name": "python",
   "nbconvert_exporter": "python",
   "pygments_lexer": "ipython3",
   "version": "3.7.9-final"
  },
  "orig_nbformat": 2,
  "kernelspec": {
   "name": "python379jvsc74a57bd0e534e48711db4d1e1c48977d0d14ff85b1f16d41bcc4fdfd88268a329b3c9d66",
   "display_name": "Python 3.7.9 64-bit"
  }
 },
 "nbformat": 4,
 "nbformat_minor": 2,
 "cells": [
  {
   "cell_type": "code",
   "execution_count": 8,
   "metadata": {},
   "outputs": [],
   "source": [
    "import torch\n",
    "import torch.nn as nn\n",
    "import numpy as np\n",
    "import pandas as pd\n",
    "import time\n",
    "import os\n",
    "import glob\n",
    "import torch\n",
    "from tqdm import tqdm\n",
    "from helpers import *\n",
    "from sklearn.preprocessing import MinMaxScaler\n"
   ]
  },
  {
   "cell_type": "code",
   "execution_count": 9,
   "metadata": {},
   "outputs": [
    {
     "output_type": "execute_result",
     "data": {
      "text/plain": [
       "            Date     State  Occurence\n",
       "0     2019-01-04  illinois          1\n",
       "1     2019-01-08  illinois          1\n",
       "2     2019-01-05  illinois          1\n",
       "3     2019-01-08  illinois          1\n",
       "4     2019-01-08    alaska          1\n",
       "...          ...       ...        ...\n",
       "9621  2021-04-08  illinois          1\n",
       "9622  2021-04-07  illinois          1\n",
       "9623  2021-04-08  illinois          1\n",
       "9624  2021-04-09  illinois          1\n",
       "9625  2021-04-08  illinois          1\n",
       "\n",
       "[9626 rows x 3 columns]"
      ],
      "text/html": "<div>\n<style scoped>\n    .dataframe tbody tr th:only-of-type {\n        vertical-align: middle;\n    }\n\n    .dataframe tbody tr th {\n        vertical-align: top;\n    }\n\n    .dataframe thead th {\n        text-align: right;\n    }\n</style>\n<table border=\"1\" class=\"dataframe\">\n  <thead>\n    <tr style=\"text-align: right;\">\n      <th></th>\n      <th>Date</th>\n      <th>State</th>\n      <th>Occurence</th>\n    </tr>\n  </thead>\n  <tbody>\n    <tr>\n      <th>0</th>\n      <td>2019-01-04</td>\n      <td>illinois</td>\n      <td>1</td>\n    </tr>\n    <tr>\n      <th>1</th>\n      <td>2019-01-08</td>\n      <td>illinois</td>\n      <td>1</td>\n    </tr>\n    <tr>\n      <th>2</th>\n      <td>2019-01-05</td>\n      <td>illinois</td>\n      <td>1</td>\n    </tr>\n    <tr>\n      <th>3</th>\n      <td>2019-01-08</td>\n      <td>illinois</td>\n      <td>1</td>\n    </tr>\n    <tr>\n      <th>4</th>\n      <td>2019-01-08</td>\n      <td>alaska</td>\n      <td>1</td>\n    </tr>\n    <tr>\n      <th>...</th>\n      <td>...</td>\n      <td>...</td>\n      <td>...</td>\n    </tr>\n    <tr>\n      <th>9621</th>\n      <td>2021-04-08</td>\n      <td>illinois</td>\n      <td>1</td>\n    </tr>\n    <tr>\n      <th>9622</th>\n      <td>2021-04-07</td>\n      <td>illinois</td>\n      <td>1</td>\n    </tr>\n    <tr>\n      <th>9623</th>\n      <td>2021-04-08</td>\n      <td>illinois</td>\n      <td>1</td>\n    </tr>\n    <tr>\n      <th>9624</th>\n      <td>2021-04-09</td>\n      <td>illinois</td>\n      <td>1</td>\n    </tr>\n    <tr>\n      <th>9625</th>\n      <td>2021-04-08</td>\n      <td>illinois</td>\n      <td>1</td>\n    </tr>\n  </tbody>\n</table>\n<p>9626 rows × 3 columns</p>\n</div>"
     },
     "metadata": {},
     "execution_count": 9
    }
   ],
   "source": [
    "data = pd.read_csv('data_from_news.csv')\n",
    "data"
   ]
  },
  {
   "cell_type": "code",
   "execution_count": 13,
   "metadata": {},
   "outputs": [
    {
     "output_type": "execute_result",
     "data": {
      "text/plain": [
       "(119, 50)"
      ]
     },
     "metadata": {},
     "execution_count": 13
    }
   ],
   "source": [
    "# Group data by weeks\n",
    "matrix, date = convert_data_to_matrix(data, group_data = True, group_days = 7)\n",
    "matrix.shape"
   ]
  },
  {
   "cell_type": "code",
   "execution_count": 22,
   "metadata": {},
   "outputs": [],
   "source": [
    "scaler = MinMaxScaler(feature_range=(0, 1))\n",
    "\n",
    "# Normalize data by row\n",
    "# Transpose input data as MinMaxScaler normalize by columns in default\n",
    "matrix = scaler.fit_transform(matrix.T).T"
   ]
  },
  {
   "cell_type": "code",
   "execution_count": 23,
   "metadata": {},
   "outputs": [
    {
     "output_type": "stream",
     "name": "stdout",
     "text": [
      "(115, 4, 50)\n(115, 50)\n(115,)\n"
     ]
    }
   ],
   "source": [
    "x, y = get_x_y(matrix, lookback = 4)\n",
    "print(x.shape)\n",
    "print(y.shape)\n",
    "date = date[:x.shape[0]]\n",
    "print(date.shape)"
   ]
  },
  {
   "cell_type": "code",
   "execution_count": 24,
   "metadata": {},
   "outputs": [],
   "source": [
    "train_loader, test_loader = split_data(x, y)"
   ]
  },
  {
   "cell_type": "code",
   "execution_count": 25,
   "metadata": {},
   "outputs": [],
   "source": [
    "class GRU(nn.Module):\n",
    "    def __init__(self, input_dim, hidden_dim, num_layers, output_dim):\n",
    "        super(GRU, self).__init__()\n",
    "        self.hidden_dim = hidden_dim\n",
    "        self.num_layers = num_layers\n",
    "        \n",
    "        self.gru = nn.GRU(input_dim, hidden_dim, num_layers, batch_first=True)\n",
    "        self.fc = nn.Linear(hidden_dim, output_dim)\n",
    "\n",
    "    def forward(self, x):\n",
    "        h0 = torch.zeros(self.num_layers, x.size(0), self.hidden_dim).requires_grad_()\n",
    "        out, (hn) = self.gru(x, (h0.detach()))\n",
    "        out = self.fc(out[:, -1, :]) \n",
    "        return out"
   ]
  },
  {
   "cell_type": "code",
   "execution_count": null,
   "metadata": {},
   "outputs": [],
   "source": []
  }
 ]
}