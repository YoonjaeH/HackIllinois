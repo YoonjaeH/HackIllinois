{
 "cells": [
  {
   "cell_type": "code",
   "execution_count": null,
   "metadata": {},
   "outputs": [],
   "source": [
    "import torch\n",
    "import torch.nn as nn\n",
    "import numpy as np\n",
    "import pandas as pd\n",
    "import time\n",
    "import os\n",
    "import glob\n",
    "import torch\n",
    "from tqdm import tqdm\n",
    "from helpers import *\n",
    "from sklearn.preprocessing import MinMaxScaler\n",
    "from model import *\n",
    "from IPython import display\n",
    "import matplotlib.pyplot as plt"
   ]
  },
  {
   "cell_type": "code",
   "execution_count": null,
   "metadata": {},
   "outputs": [],
   "source": [
    "data = pd.read_csv('data_from_news.csv')"
   ]
  },
  {
   "cell_type": "code",
   "execution_count": null,
   "metadata": {},
   "outputs": [],
   "source": [
    "# Group data by weeks\n",
    "matrix, date = convert_data_to_matrix(data, group_data = True, group_days = 7)\n",
    "# matrix, date = convert_data_to_matrix(data)\n",
    "# matrix.shape"
   ]
  },
  {
   "cell_type": "code",
   "execution_count": null,
   "metadata": {},
   "outputs": [],
   "source": [
    "# scaler = MinMaxScaler(feature_range=(0, 1))\n",
    "\n",
    "# Normalize data by row\n",
    "# Transpose input data as MinMaxScaler normalize by columns in default\n",
    "# matrix = scaler.fit_transform(matrix.T).T"
   ]
  },
  {
   "cell_type": "code",
   "execution_count": null,
   "metadata": {},
   "outputs": [],
   "source": [
    "x, y = get_x_y(matrix, lookback = 4)\n",
    "print(x.shape)\n",
    "print(y.shape)\n",
    "date = date[:x.shape[0]]\n",
    "print(date.shape)"
   ]
  },
  {
   "cell_type": "code",
   "execution_count": null,
   "metadata": {},
   "outputs": [],
   "source": [
    "train_loader, test_loader = split_data(x, y)"
   ]
  },
  {
   "cell_type": "code",
   "execution_count": null,
   "metadata": {},
   "outputs": [],
   "source": [
    "input_dim = matrix.shape[-1]\n",
    "hidden_dim = 32\n",
    "num_layers = 2\n",
    "output_dim = matrix.shape[-1]\n",
    "num_epochs = 500"
   ]
  },
  {
   "cell_type": "code",
   "execution_count": null,
   "metadata": {},
   "outputs": [],
   "source": [
    "model = GRU(input_dim=input_dim, hidden_dim=hidden_dim, output_dim=output_dim, num_layers=num_layers)\n",
    "criterion = torch.nn.MSELoss(reduction='sum')\n",
    "optimizer = torch.optim.Adam(model.parameters(), lr=0.001)"
   ]
  },
  {
   "cell_type": "code",
   "execution_count": null,
   "metadata": {
    "tags": []
   },
   "outputs": [],
   "source": [
    "start = time.time()\n",
    "LOSS, ACCU = [], []\n",
    "\n",
    "for epoch in range(num_epochs):\n",
    "    rloss = []\n",
    "    acc = []\n",
    "    for data in train_loader:\n",
    "        x, y = data\n",
    "        optimizer.zero_grad()\n",
    "        output = model(x)\n",
    "        loss = criterion(output, y)\n",
    "        loss.backward()\n",
    "        optimizer.step()\n",
    "\n",
    "        rloss.append(loss.item())\n",
    "\n",
    "    with torch.no_grad():\n",
    "        for data in test_loader:\n",
    "            x, y = data\n",
    "            output = model(x)\n",
    "            pred = get_pred(output)\n",
    "            accu = calc_accuracy(pred, y)\n",
    "            # accu = calc_strict_accuracy(pred, y)\n",
    "            acc.append(accu)\n",
    "\n",
    "    LOSS.append(np.mean(rloss))\n",
    "    ACCU.append(np.mean(acc))\n",
    "\n",
    "    fig, ax1 = plt.subplots()\n",
    "    plt.axis([0, num_epochs, 0, 8000])\n",
    "    color = 'tab:red'\n",
    "    ax1.set_xlabel('Epoch')\n",
    "    ax1.set_ylabel('Loss', color = color)\n",
    "    ax1.plot(LOSS, color = color)\n",
    "    ax1.tick_params(axis='y', labelcolor = color)\n",
    "\n",
    "    color = 'tab:blue'\n",
    "    ax2 = ax1.twinx()\n",
    "    ax2.set_ylabel('Accuracy', color = color)\n",
    "    ax2.plot(ACCU, color = color)\n",
    "    ax2.tick_params(axis='y', labelcolor = color)\n",
    "    plt.title('Model Loss and Accuracy by Epoch')\n",
    "    fig.set_size_inches(9, 6)\n",
    "\n",
    "    display.clear_output(wait=True)\n",
    "    plt.pause(0.01)\n",
    "\n",
    "    # print(\"Epoch {}/{}, Loss: {:.3f}, Accuracy: {:.2f}%\".format(epoch, num_epochs, LOSS[-1], ACCU[-1] * 100))\n",
    "# total = time.time() - start\n",
    "# print(\"Total train time: {} hrs {} mins\".format(total // 3600, (total % 3600) // 60))\n"
   ]
  },
  {
   "cell_type": "code",
   "execution_count": null,
   "metadata": {},
   "outputs": [],
   "source": [
    "torch.save(model, 'prediction_model.pt')"
   ]
  }
 ],
 "metadata": {
  "interpreter": {
   "hash": "e534e48711db4d1e1c48977d0d14ff85b1f16d41bcc4fdfd88268a329b3c9d66"
  },
  "kernelspec": {
   "display_name": "Python 3.7.9 64-bit ('3.7')",
   "name": "python3"
  },
  "language_info": {
   "name": "python",
   "version": ""
  },
  "orig_nbformat": 2
 },
 "nbformat": 4,
 "nbformat_minor": 2
}