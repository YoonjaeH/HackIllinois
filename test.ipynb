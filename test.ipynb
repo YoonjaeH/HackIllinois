{
 "metadata": {
  "language_info": {
   "codemirror_mode": {
    "name": "ipython",
    "version": 3
   },
   "file_extension": ".py",
   "mimetype": "text/x-python",
   "name": "python",
   "nbconvert_exporter": "python",
   "pygments_lexer": "ipython3",
   "version": "3.7.9"
  },
  "orig_nbformat": 2,
  "kernelspec": {
   "name": "python379jvsc74a57bd0aee8b7b246df8f9039afb4144a1f6fd8d2ca17a180786b69acc140d282b71a49",
   "display_name": "Python 3.7.9 64-bit"
  },
  "metadata": {
   "interpreter": {
    "hash": "aee8b7b246df8f9039afb4144a1f6fd8d2ca17a180786b69acc140d282b71a49"
   }
  }
 },
 "nbformat": 4,
 "nbformat_minor": 2,
 "cells": [
  {
   "cell_type": "code",
   "execution_count": 8,
   "metadata": {},
   "outputs": [],
   "source": [
    "us_state_abbrev = {\n",
    "'Alabama': 'AL',\n",
    "'Alaska': 'AK',\n",
    "'Arizona': 'AZ',\n",
    "'Arkansas': 'AR',\n",
    "'California': 'CA',\n",
    "'Colorado': 'CO',\n",
    "'Connecticut': 'CT',\n",
    "'Delaware': 'DE',\n",
    "'Florida': 'FL',\n",
    "'Georgia': 'GA',\n",
    "'Hawaii': 'HI',\n",
    "'Idaho': 'ID',\n",
    "'Illinois': 'IL',\n",
    "'Indiana': 'IN',\n",
    "'Iowa': 'IA',\n",
    "'Kansas': 'KS',\n",
    "'Kentucky': 'KY',\n",
    "'Louisiana': 'LA',\n",
    "'Maine': 'ME',\n",
    "'Maryland': 'MD',\n",
    "'Massachusetts': 'MA',\n",
    "'Michigan': 'MI',\n",
    "'Minnesota': 'MN',\n",
    "'Mississippi': 'MS',\n",
    "'Missouri': 'MO',\n",
    "'Montana': 'MT',\n",
    "'Nebraska': 'NE',\n",
    "'Nevada': 'NV',\n",
    "'New Hampshire': 'NH',\n",
    "'New Jersey': 'NJ',\n",
    "'New Mexico': 'NM',\n",
    "'New York': 'NY',\n",
    "'North Carolina': 'NC',\n",
    "'North Dakota': 'ND',\n",
    "'Ohio': 'OH',\n",
    "'Oklahoma': 'OK',\n",
    "'Oregon': 'OR',\n",
    "'Pennsylvania': 'PA',\n",
    "'Rhode Island': 'RI',\n",
    "'South Carolina': 'SC',\n",
    "'South Dakota': 'SD',\n",
    "'Tennessee': 'TN',\n",
    "'Texas': 'TX',\n",
    "'Utah': 'UT',\n",
    "'Vermont': 'VT',\n",
    "'Virginia': 'VA',\n",
    "'Washington': 'WA',\n",
    "'West Virginia': 'WV',\n",
    "'Wisconsin': 'WI',\n",
    "'Wyoming': 'WY'\n",
    "}"
   ]
  },
  {
   "cell_type": "code",
   "execution_count": 12,
   "metadata": {},
   "outputs": [
    {
     "output_type": "execute_result",
     "data": {
      "text/plain": [
       "{'alabama': 0,\n",
       " 'alaska': 1,\n",
       " 'arizona': 2,\n",
       " 'arkansas': 3,\n",
       " 'california': 4,\n",
       " 'colorado': 5,\n",
       " 'connecticut': 6,\n",
       " 'delaware': 7,\n",
       " 'florida': 8,\n",
       " 'georgia': 9,\n",
       " 'hawaii': 10,\n",
       " 'idaho': 11,\n",
       " 'illinois': 12,\n",
       " 'indiana': 13,\n",
       " 'iowa': 14,\n",
       " 'kansas': 15,\n",
       " 'kentucky': 16,\n",
       " 'louisiana': 17,\n",
       " 'maine': 18,\n",
       " 'maryland': 19,\n",
       " 'massachusetts': 20,\n",
       " 'michigan': 21,\n",
       " 'minnesota': 22,\n",
       " 'mississippi': 23,\n",
       " 'missouri': 24,\n",
       " 'montana': 25,\n",
       " 'nebraska': 26,\n",
       " 'nevada': 27,\n",
       " 'new hampshire': 28,\n",
       " 'new jersey': 29,\n",
       " 'new mexico': 30,\n",
       " 'new york': 31,\n",
       " 'north carolina': 32,\n",
       " 'north dakota': 33,\n",
       " 'ohio': 34,\n",
       " 'oklahoma': 35,\n",
       " 'oregon': 36,\n",
       " 'pennsylvania': 37,\n",
       " 'rhode island': 38,\n",
       " 'south carolina': 39,\n",
       " 'south dakota': 40,\n",
       " 'tennessee': 41,\n",
       " 'texas': 42,\n",
       " 'utah': 43,\n",
       " 'vermont': 44,\n",
       " 'virginia': 45,\n",
       " 'washington': 46,\n",
       " 'west virginia': 47,\n",
       " 'wisconsin': 48,\n",
       " 'wyoming': 49,\n",
       " 'al': 0,\n",
       " 'ak': 1,\n",
       " 'az': 2,\n",
       " 'ar': 3,\n",
       " 'ca': 4,\n",
       " 'co': 5,\n",
       " 'ct': 6,\n",
       " 'de': 7,\n",
       " 'fl': 8,\n",
       " 'ga': 9,\n",
       " 'hi': 10,\n",
       " 'id': 11,\n",
       " 'il': 12,\n",
       " 'in': 13,\n",
       " 'ia': 14,\n",
       " 'ks': 15,\n",
       " 'ky': 16,\n",
       " 'la': 17,\n",
       " 'me': 18,\n",
       " 'md': 19,\n",
       " 'ma': 20,\n",
       " 'mi': 21,\n",
       " 'mn': 22,\n",
       " 'ms': 23,\n",
       " 'mo': 24,\n",
       " 'mt': 25,\n",
       " 'ne': 26,\n",
       " 'nv': 27,\n",
       " 'nh': 28,\n",
       " 'nj': 29,\n",
       " 'nm': 30,\n",
       " 'ny': 31,\n",
       " 'nc': 32,\n",
       " 'nd': 33,\n",
       " 'oh': 34,\n",
       " 'ok': 35,\n",
       " 'or': 36,\n",
       " 'pa': 37,\n",
       " 'ri': 38,\n",
       " 'sc': 39,\n",
       " 'sd': 40,\n",
       " 'tn': 41,\n",
       " 'tx': 42,\n",
       " 'ut': 43,\n",
       " 'vt': 44,\n",
       " 'va': 45,\n",
       " 'wa': 46,\n",
       " 'wv': 47,\n",
       " 'wi': 48,\n",
       " 'wy': 49}"
      ]
     },
     "metadata": {},
     "execution_count": 12
    }
   ],
   "source": [
    "state_keys = list(us_state_abbrev.keys())\n",
    "full, abbr = list(us_state_abbrev.keys()), list(us_state_abbrev.values())\n",
    "\n",
    "full = [s.lower() for s in full]\n",
    "abbr = [a.lower() for a in abbr]\n",
    "\n",
    "idx = [i for i in range(len(full))]\n",
    "\n",
    "dict_1 = {full[i] : idx[i] for i in range(len(full))}\n",
    "dict_2 = {abbr[i] : idx[i] for i in range(len(abbr))}\n",
    "\n",
    "dict_1.update(dict_2)\n",
    "dict_1"
   ]
  },
  {
   "cell_type": "code",
   "execution_count": 19,
   "metadata": {},
   "outputs": [],
   "source": [
    "import pandas as pd\n",
    "\n",
    "sample_csv = pd.DataFrame({'Date' : [], 'State' : [], 'Casualties' : []})\n",
    "sample_csv.to_csv('./data/data_format.csv', index=False)"
   ]
  },
  {
   "cell_type": "code",
   "execution_count": 20,
   "metadata": {},
   "outputs": [
    {
     "output_type": "execute_result",
     "data": {
      "text/plain": [
       "False"
      ]
     },
     "metadata": {},
     "execution_count": 20
    }
   ],
   "source": [
    "import numpy as np\n"
   ]
  },
  {
   "cell_type": "code",
   "execution_count": 27,
   "metadata": {},
   "outputs": [
    {
     "output_type": "execute_result",
     "data": {
      "text/plain": [
       "373"
      ]
     },
     "metadata": {},
     "execution_count": 27
    }
   ],
   "source": [
    "from datetime import datetime\n",
    "\n",
    "a = datetime.now()\n",
    "b = datetime(2020, 4, 1)\n",
    "(a - b).days"
   ]
  },
  {
   "cell_type": "code",
   "execution_count": 35,
   "metadata": {},
   "outputs": [
    {
     "output_type": "stream",
     "name": "stdout",
     "text": [
      "50\n"
     ]
    },
    {
     "output_type": "execute_result",
     "data": {
      "text/plain": [
       "['al',\n",
       " 'ak',\n",
       " 'az',\n",
       " 'ar',\n",
       " 'ca',\n",
       " 'co',\n",
       " 'ct',\n",
       " 'de',\n",
       " 'fl',\n",
       " 'ga',\n",
       " 'hi',\n",
       " 'id',\n",
       " 'il',\n",
       " 'in',\n",
       " 'ia',\n",
       " 'ks',\n",
       " 'ky',\n",
       " 'la',\n",
       " 'me',\n",
       " 'md',\n",
       " 'ma',\n",
       " 'mi',\n",
       " 'mn',\n",
       " 'ms',\n",
       " 'mo',\n",
       " 'mt',\n",
       " 'ne',\n",
       " 'nv',\n",
       " 'nh',\n",
       " 'nj',\n",
       " 'nm',\n",
       " 'ny',\n",
       " 'nc',\n",
       " 'nd',\n",
       " 'oh',\n",
       " 'ok',\n",
       " 'or',\n",
       " 'pa',\n",
       " 'ri',\n",
       " 'sc',\n",
       " 'sd',\n",
       " 'tn',\n",
       " 'tx',\n",
       " 'ut',\n",
       " 'vt',\n",
       " 'va',\n",
       " 'wa',\n",
       " 'wv',\n",
       " 'wi',\n",
       " 'wy']"
      ]
     },
     "metadata": {},
     "execution_count": 35
    }
   ],
   "source": [
    "states = [\"AL\", \"AK\", \"AZ\", \"AR\", \"CA\", \"CO\", \"CT\", \"DE\", \"FL\", \"GA\", \n",
    "          \"HI\", \"ID\", \"IL\", \"IN\", \"IA\", \"KS\", \"KY\", \"LA\", \"ME\", \"MD\", \n",
    "          \"MA\", \"MI\", \"MN\", \"MS\", \"MO\", \"MT\", \"NE\", \"NV\", \"NH\", \"NJ\", \n",
    "          \"NM\", \"NY\", \"NC\", \"ND\", \"OH\", \"OK\", \"OR\", \"PA\", \"RI\", \"SC\", \n",
    "          \"SD\", \"TN\", \"TX\", \"UT\", \"VT\", \"VA\", \"WA\", \"WV\", \"WI\", \"WY\"]\n",
    "\n",
    "states = [s.lower() for s in states]\n",
    "print(len(states))\n",
    "\n",
    "states"
   ]
  },
  {
   "cell_type": "code",
   "execution_count": 43,
   "metadata": {},
   "outputs": [],
   "source": [
    "import requests\n",
    "US_STATE_NAMES = [s.replace(' ', '_') for s in US_STATE_NAMES]\n",
    "year = '2017'\n",
    "for state in US_STATE_NAMES:\n",
    "    dl = 'https://ucr.fbi.gov/hate-crime/{}/tables/table-13-state-cuts/{}.xls/output.xls'.format(year, state)\n",
    "    r = requests.get(dl)\n",
    "    with open(\"./data/{}/{}.xls\".format(year, state), 'wb') as outfile:\n",
    "        outfile.write(r.content)"
   ]
  },
  {
   "cell_type": "code",
   "execution_count": 2,
   "metadata": {},
   "outputs": [],
   "source": [
    "from requests.api import options\n",
    "# from newsapi import NewsApiClient\n",
    "from pynytimes import NYTAPI\n",
    "import sys\n",
    "import os\n",
    "sys.path.append(os.path.abspath('.'))\n",
    "from credentials import NYT_KEY\n",
    "from constants import KEY_WORDS\n",
    "from datetime import datetime\n",
    "\n",
    "nyt = NYTAPI(NYT_KEY, parse_dates=True)\n",
    "\n",
    "search = nyt.article_search(\n",
    "    query = KEY_WORDS[0],\n",
    "    dates = {\n",
    "        'begin' : datetime(2021, 3, 25),\n",
    "        'end'   : datetime(2021, 4, 1)\n",
    "    },\n",
    "    options = {\n",
    "        \"sources\" : [\n",
    "            \"New York Times\",\n",
    "            \"AP\",\n",
    "            \"Reuters\",\n",
    "            \"International Herald Tribune\"\n",
    "        ]\n",
    "    }\n",
    ")\n"
   ]
  },
  {
   "cell_type": "code",
   "execution_count": 19,
   "metadata": {},
   "outputs": [
    {
     "output_type": "execute_result",
     "data": {
      "text/plain": [
       "datetime.datetime(2021, 3, 31, 14, 55, 44, tzinfo=datetime.timezone.utc)"
      ]
     },
     "metadata": {},
     "execution_count": 19
    }
   ],
   "source": [
    "temp_url = search[0]['web_url']\n",
    "search[0]['pub_date']"
   ]
  },
  {
   "cell_type": "code",
   "execution_count": 13,
   "metadata": {},
   "outputs": [
    {
     "output_type": "execute_result",
     "data": {
      "text/plain": [
       "'Prabal Gurung, the Nepalese-American designer, has been a vocal proponent of inclusion and diversity since his first show in 2009. In the wake of the Atlanta shootings and an upswing in anti-Asian violence, he talked to The New York Times about his own experiences and what his work has to do with it.\\n\\nHow do you grapple with what’s going on?\\n\\nTo watch a video of a 65-year-old woman being brutally attacked is triggering and heart-wrenching, not just for me but for my friends and people from my community. We all are so worried for our loved ones. My mother goes on walks every morning and evening. She’s 75-years-old. A couple of weeks ago, I bought a blond wig for her, and I said, “You know, just wear it when you go outside, wear a hat, wear glasses.” She tried it on. But the next day she came over to my place, and she was like: “I’m not going to wear it. Just buy me a big, strong cane.” That is the reality of this.\\n\\nIs that why you were an organizer of a Black and Asian solidarity march with other designers and activists in March?\\n\\nWe didn’t know how many people were going to show up, but thousands and thousands of people showed up across races and gender: L.G.B.T.Q. friends, Latin friends, Black friends, Asian friends, white friends. What we recognize is that for this particular moment to turn into a movement, we have to have all the marginalized groups and our white counterparts coming together.'"
      ]
     },
     "metadata": {},
     "execution_count": 13
    }
   ],
   "source": [
    "from newspaper import Article\n",
    "article = Article(temp_url)\n",
    "article.download()\n",
    "article.parse()\n",
    "article.text"
   ]
  },
  {
   "cell_type": "code",
   "execution_count": 16,
   "metadata": {},
   "outputs": [
    {
     "output_type": "stream",
     "name": "stdout",
     "text": [
      "CPU times: user 2 µs, sys: 0 ns, total: 2 µs\nWall time: 5.96 µs\nCPU times: user 54 µs, sys: 22 µs, total: 76 µs\nWall time: 69.9 µs\n"
     ]
    },
    {
     "output_type": "execute_result",
     "data": {
      "text/plain": [
       "array([  0,   1,   2, ..., 998, 999,   1])"
      ]
     },
     "metadata": {},
     "execution_count": 16
    }
   ],
   "source": [
    "import numpy as np\n",
    "a, b = np.arange(1000), [i for i in range(1000)]\n",
    "\n",
    "%time b.append(1)\n",
    "%time np.append(a,1)"
   ]
  },
  {
   "cell_type": "code",
   "execution_count": 21,
   "metadata": {},
   "outputs": [
    {
     "output_type": "execute_result",
     "data": {
      "text/plain": [
       "222"
      ]
     },
     "metadata": {},
     "execution_count": 21
    }
   ],
   "source": [
    "date_start = datetime(2017, 1, 1)\n",
    "date_end = datetime.now()\n",
    "(date_end - date_start).days // 7"
   ]
  },
  {
   "cell_type": "code",
   "execution_count": null,
   "metadata": {},
   "outputs": [],
   "source": [
    "from data.helpers import get_article_location, get_article_text, is_valid_article\n",
    "import requests\n",
    "# from newsapi import NewsApiClient\n",
    "from pynytimes import NYTAPI\n",
    "import sys\n",
    "import os\n",
    "sys.path.append(os.path.abspath('.'))\n",
    "from credentials import NYT_KEY\n",
    "from constants import *\n",
    "from datetime import datetime, timedelta\n",
    "import pandas as pd\n",
    "from tqdm import tqdm\n",
    "\n",
    "\n",
    "nyt = NYTAPI(NYT_KEY, parse_dates=True)\n",
    "\n",
    "date_start = datetime(2017, 1, 1)\n",
    "date_end = datetime(2017, 1, )\n",
    "delta = timedelta(days = 7)\n",
    "\n",
    "date_list, state_list = [], []\n",
    "\n",
    "pbar = tqdm(total = (date_end - date_start).days // 7 + 1)\n",
    "\n",
    "while date_start < date_end:\n",
    "    date_delta_added = date_start + delta\n",
    "    for keyword in KEY_WORDS:\n",
    "        search = nyt.article_search(\n",
    "            query = keyword,\n",
    "            dates = {\n",
    "                'begin' : date_start,\n",
    "                'end'   : date_delta_added\n",
    "            },\n",
    "            options = {\n",
    "                \"sources\" : [\n",
    "                    \"New York Times\",\n",
    "                    \"AP\",\n",
    "                    \"Reuters\",\n",
    "                    \"International Herald Tribune\"\n",
    "                ]\n",
    "            }\n",
    "        )\n",
    "        for i in range(len(search)):\n",
    "            article_time, article_url = search[i]['pub_date'], search[i]['web_url']\n",
    "            article_text = get_article_text(article_url)\n",
    "            article_state = get_article_location(article_text)\n",
    "            if is_valid_article(article_time, article_state, date_start, date_delta_added):\n",
    "                article_time = datetime(article_time)\n",
    "                date_list.append(article_time)\n",
    "                state_list.append(article_state)\n",
    "\n",
    "    date_start = date_delta_added\n",
    "    pbar.update(1)\n",
    "\n",
    "pbar.close()\n",
    "\n",
    "occurence = [1] * len(date_list)\n",
    "article_df = pd.DataFrame({'Date' : date_list, 'State' : state_list, 'Occurence' : occurence})\n",
    "article_df.to_csv('./data/data_from_news.csv', index=False)\n",
    "    \n",
    "\n"
   ]
  }
 ]
}